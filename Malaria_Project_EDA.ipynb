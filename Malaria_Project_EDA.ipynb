{
 "cells": [
  {
   "cell_type": "markdown",
   "metadata": {},
   "source": [
    "# Malaria in Africa"
   ]
  },
  {
   "cell_type": "code",
   "execution_count": null,
   "metadata": {
    "colab": {
     "base_uri": "https://localhost:8080/",
     "height": 790
    },
    "executionInfo": {
     "elapsed": 1130,
     "status": "ok",
     "timestamp": 1715970962692,
     "user": {
      "displayName": "ABIODUN ONIFADE",
      "userId": "11738090368076417366"
     },
     "user_tz": -60
    },
    "id": "wNJt-McDhLLk",
    "outputId": "2c538b9d-cae6-424b-e607-ba7eec35b238"
   },
   "outputs": [],
   "source": [
    "# import libraries \n",
    "import pandas as pd\n",
    "import seaborn as sns\n",
    "import matplotlib.pyplot as plt\n",
    "import plotly.express as px\n",
    "import plotly.graph_objects as go"
   ]
  },
  {
   "cell_type": "code",
   "execution_count": null,
   "metadata": {
    "tags": []
   },
   "outputs": [],
   "source": [
    "# load the data\n",
    "df = pd.read_csv(\"DatasetAfricaMalaria.csv\")\n",
    "df.head(3)"
   ]
  },
  {
   "cell_type": "code",
   "execution_count": null,
   "metadata": {
    "tags": []
   },
   "outputs": [],
   "source": [
    "# get total number of countries under study\n",
    "country_names_column = df['Country Name']\n",
    "unique_country_names = country_names_column.unique()\n",
    "print(\"Total Number of Countries: \", len(unique_country_names))"
   ]
  },
  {
   "cell_type": "code",
   "execution_count": null,
   "metadata": {
    "colab": {
     "base_uri": "https://localhost:8080/"
    },
    "executionInfo": {
     "elapsed": 449,
     "status": "ok",
     "timestamp": 1715955897910,
     "user": {
      "displayName": "ABIODUN ONIFADE",
      "userId": "11738090368076417366"
     },
     "user_tz": -60
    },
    "id": "1klvEgPvbbf5",
    "outputId": "7595b225-f53e-4990-9a77-4cbc34bbd46d",
    "tags": []
   },
   "outputs": [],
   "source": [
    "# Get a list of unique countries\n",
    "print(\"Unique country names:\")\n",
    "country_names_column.unique()"
   ]
  },
  {
   "cell_type": "code",
   "execution_count": null,
   "metadata": {},
   "outputs": [],
   "source": [
    "column_names = df.columns.tolist()\n",
    "column_names"
   ]
  },
  {
   "cell_type": "code",
   "execution_count": null,
   "metadata": {
    "colab": {
     "base_uri": "https://localhost:8080/",
     "height": 377
    },
    "executionInfo": {
     "elapsed": 512,
     "status": "ok",
     "timestamp": 1715955927418,
     "user": {
      "displayName": "ABIODUN ONIFADE",
      "userId": "11738090368076417366"
     },
     "user_tz": -60
    },
    "id": "4hQqDDWBeuOc",
    "outputId": "0319f852-d4b6-4741-9ae7-e980428c1746"
   },
   "outputs": [],
   "source": [
    "# rename columns: a shorter compressed names \n",
    "abbreviated_headers = {\n",
    "  'Country Name' : 'countryname',\n",
    "  'Year' : 'year',\n",
    "  'Country Code' : 'countrycode',\n",
    "  'Incidence of malaria (per 1,000 population at risk)' : 'iom(/1,000 pop)' ,\n",
    "  'Malaria cases reported' : 'malariacasesreported',\n",
    "  'Use of insecticide-treated bed nets (% of under-5 population)' : 'insecticidetreatednet(%juvenile)',\n",
    "  'Children with fever receiving antimalarial drugs (% of children under age 5 with fever)' : 'treatment_antimalarialdrugs(%juvenile)',\n",
    "  'Intermittent preventive treatment (IPT) of malaria in pregnancy (% of pregnant women)' : 'ipt_malaria(%pregnantwomen)',\n",
    "  'People using safely managed drinking water services (% of population)' : 'safemanaged_drinkwater(%pop)',\n",
    "  'People using safely managed drinking water services, rural (% of rural population)' : 'safemanaged_drinkwater_rural(%pop)',\n",
    "  'People using safely managed drinking water services, urban (% of urban population)' : 'safemanaged_drinkwater_urban(%pop)',\n",
    "  'People using safely managed sanitation services (% of population)' : 'safesanitationservices(%pop)',\n",
    "  'People using safely managed sanitation services, rural (% of rural population)' : 'safesanitationservices_rural(%ruralpop)',\n",
    "  'People using safely managed sanitation services, urban  (% of urban population)' : 'safesanitationservices_urban(%urbanpop)',\n",
    "  'Rural population (% of total population)' : 'ruralpop(%totalpop)',\n",
    "  'Rural population growth (annual %)' : 'ruralpopgrowth(annual%)',\n",
    "  'Urban population (% of total population)' : 'urbanpop(%totalpop)',\n",
    "  'Urban population growth (annual %)' : 'urbanpopgrowth(annual%)',\n",
    "  'People using at least basic drinking water services (% of population)' : 'basicdrinkingwaterservices(%pop)',\n",
    "  'People using at least basic drinking water services, rural (% of rural population)' : 'basicdrinkingwater_rural(%ruralpop)',\n",
    "  'People using at least basic drinking water services, urban (% of urban population)' : 'basicdrinkingwater_urban(%urbanpop)',\n",
    "  'People using at least basic sanitation services (% of population)' : 'bascisanitationservices(%pop)',\n",
    "  'People using at least basic sanitation services, rural (% of rural population)' : 'bascisanitationservices_rural(%ruralpop)',\n",
    "  'People using at least basic sanitation services, urban  (% of urban population)' :  'bascisanitationservices_urban(%urbanpop)',\n",
    "  'latitude' : 'latitude',\n",
    "  'longitude' : 'longitude',\n",
    "  'geometry' : 'geometry'\n",
    "}\n",
    "df.rename(columns=abbreviated_headers, inplace=True)\n",
    "df.head()"
   ]
  },
  {
   "cell_type": "code",
   "execution_count": null,
   "metadata": {
    "colab": {
     "base_uri": "https://localhost:8080/"
    },
    "executionInfo": {
     "elapsed": 1676,
     "status": "ok",
     "timestamp": 1715955949501,
     "user": {
      "displayName": "ABIODUN ONIFADE",
      "userId": "11738090368076417366"
     },
     "user_tz": -60
    },
    "id": "6ec4dkP6fzV7",
    "outputId": "d2a438fe-dad9-41ec-c2ac-beb9d41a1246"
   },
   "outputs": [],
   "source": [
    "# check for null values\n",
    "df.isnull().sum()"
   ]
  },
  {
   "cell_type": "markdown",
   "metadata": {
    "id": "KalJNUCSg9Pm"
   },
   "source": [
    "There are so many null Values in the 3 particular column we are more concerned about, they are :\n",
    "\n",
    "1. insecticidetreatednet(%juvenile)            462\n",
    "\n",
    "2. treatment_antimalarialdrugs(%juvenile)      472\n",
    "\n",
    "3. ipt_malaria(%pregnantwomen)                 488\n",
    "\n",
    "Similarly we can't say anything about safe managed drinking water and safe managed sanitation as there are also many null values :\n",
    "\n",
    "1. safemanaged_drinkwater(%pop)                495\n",
    "\n",
    "2. safemanaged_drinkwater_rural(%pop)          506\n",
    "\n",
    "3. safemanaged_drinkwater_urban(%pop)          418\n",
    "\n",
    "4. safesanitationservices(%pop)                462\n",
    "\n",
    "5. safesanitationservices_rural(%ruralpop)     484\n",
    "\n",
    "6. safesanitationservices_urban(%urbanpop)     462\n"
   ]
  },
  {
   "cell_type": "code",
   "execution_count": null,
   "metadata": {
    "id": "VygbgeE6hrFU"
   },
   "outputs": [],
   "source": [
    "# Calculate the percentage of null values in each column\n",
    "null_percentage = (df.isnull().sum() / len(df)) * 100\n",
    "\n",
    "# Get the list of columns where null percentage exceeds 70%\n",
    "columns_to_drop = null_percentage[null_percentage > 70].index\n",
    "\n",
    "# df1 is the dataframe with columns having less null value here less than 70% (columns with null values greater than 70% will be dropped.\n",
    "df1 = df.drop(columns = columns_to_drop)"
   ]
  },
  {
   "cell_type": "code",
   "execution_count": null,
   "metadata": {
    "colab": {
     "base_uri": "https://localhost:8080/"
    },
    "executionInfo": {
     "elapsed": 6351,
     "status": "ok",
     "timestamp": 1715956017664,
     "user": {
      "displayName": "ABIODUN ONIFADE",
      "userId": "11738090368076417366"
     },
     "user_tz": -60
    },
    "id": "fveNFNHIihMn",
    "outputId": "a95b0ac2-28c8-4d4f-a7a2-ee6b81766484"
   },
   "outputs": [],
   "source": [
    "# confirm remaining null values\n",
    "df1.isnull().sum()"
   ]
  },
  {
   "cell_type": "code",
   "execution_count": null,
   "metadata": {
    "id": "rEgMzKYgir77"
   },
   "outputs": [],
   "source": [
    "# Calculate the mean for numerical columns\n",
    "numerical_columns = df1.select_dtypes(include=['float64', 'int64']).columns\n",
    "numerical_means = df1[numerical_columns].mean()\n",
    "\n",
    "# Fill null values in numerical columns with the mean of each column\n",
    "df1[numerical_columns] = df1[numerical_columns].fillna(numerical_means)"
   ]
  },
  {
   "cell_type": "code",
   "execution_count": null,
   "metadata": {
    "colab": {
     "base_uri": "https://localhost:8080/"
    },
    "executionInfo": {
     "elapsed": 7,
     "status": "ok",
     "timestamp": 1715956028428,
     "user": {
      "displayName": "ABIODUN ONIFADE",
      "userId": "11738090368076417366"
     },
     "user_tz": -60
    },
    "id": "W6BSpXjfj_9V",
    "outputId": "fb7da169-61e9-413d-8904-e0e9e2cd9795"
   },
   "outputs": [],
   "source": [
    "# recheck null values\n",
    "df1.isnull().sum()"
   ]
  },
  {
   "cell_type": "markdown",
   "metadata": {
    "id": "lJkt8KSUH0X4"
   },
   "source": [
    "**We have successfully cleaned the data.**"
   ]
  },
  {
   "cell_type": "code",
   "execution_count": null,
   "metadata": {
    "colab": {
     "base_uri": "https://localhost:8080/",
     "height": 337
    },
    "executionInfo": {
     "elapsed": 411,
     "status": "ok",
     "timestamp": 1715956042648,
     "user": {
      "displayName": "ABIODUN ONIFADE",
      "userId": "11738090368076417366"
     },
     "user_tz": -60
    },
    "id": "PrZePkqhkXVF",
    "outputId": "4632939c-0462-44ec-d508-8d9c9bd8cb84"
   },
   "outputs": [],
   "source": [
    "# Cleaned Data, \n",
    "malaria = df1\n",
    "# Summarize cleaned data\n",
    "malaria.describe()"
   ]
  },
  {
   "cell_type": "code",
   "execution_count": null,
   "metadata": {
    "colab": {
     "base_uri": "https://localhost:8080/"
    },
    "executionInfo": {
     "elapsed": 609,
     "status": "ok",
     "timestamp": 1715963805700,
     "user": {
      "displayName": "ABIODUN ONIFADE",
      "userId": "11738090368076417366"
     },
     "user_tz": -60
    },
    "id": "mdXtUALyZ675",
    "outputId": "e0fcd27f-5264-4e78-bb4d-d50cacb0cd82"
   },
   "outputs": [],
   "source": [
    "# shape of the data\n",
    "malaria.shape"
   ]
  },
  {
   "cell_type": "code",
   "execution_count": null,
   "metadata": {
    "colab": {
     "base_uri": "https://localhost:8080/"
    },
    "executionInfo": {
     "elapsed": 11,
     "status": "ok",
     "timestamp": 1715964703505,
     "user": {
      "displayName": "ABIODUN ONIFADE",
      "userId": "11738090368076417366"
     },
     "user_tz": -60
    },
    "id": "bn5P4-0rdei2",
    "outputId": "fdfb7715-53f8-49c1-974e-f0a4d69fe499"
   },
   "outputs": [],
   "source": [
    "malaria.info()"
   ]
  },
  {
   "cell_type": "markdown",
   "metadata": {
    "id": "9vW_98QolhR_"
   },
   "source": [
    "# **Exploratory Data Analysis**"
   ]
  },
  {
   "cell_type": "code",
   "execution_count": null,
   "metadata": {
    "colab": {
     "base_uri": "https://localhost:8080/",
     "height": 347
    },
    "executionInfo": {
     "elapsed": 442,
     "status": "ok",
     "timestamp": 1715956153416,
     "user": {
      "displayName": "ABIODUN ONIFADE",
      "userId": "11738090368076417366"
     },
     "user_tz": -60
    },
    "id": "NMktq3Ctv-2Q",
    "outputId": "f46a3ae8-ddc9-4554-f9bd-e81f292bf6cd"
   },
   "outputs": [],
   "source": [
    "malaria.head()"
   ]
  },
  {
   "cell_type": "code",
   "execution_count": null,
   "metadata": {
    "tags": []
   },
   "outputs": [],
   "source": [
    "# get the timeframe in years within which the data was gotten.\n",
    "malaria['year'].unique()"
   ]
  },
  {
   "cell_type": "markdown",
   "metadata": {},
   "source": [
    "The data consists of information taken about malaria incidences, recorded from 2007 through 2017."
   ]
  },
  {
   "cell_type": "markdown",
   "metadata": {
    "id": "JTtK_zrZllbe"
   },
   "source": [
    "**Insights From the Data.**\n",
    "\n",
    "1. What is the trend of malaria incidences over the years?\n",
    "Identify regions and time periods with high and low malaria incidence rates"
   ]
  },
  {
   "cell_type": "code",
   "execution_count": null,
   "metadata": {
    "colab": {
     "base_uri": "https://localhost:8080/",
     "height": 564
    },
    "executionInfo": {
     "elapsed": 2397,
     "status": "ok",
     "timestamp": 1715956267844,
     "user": {
      "displayName": "ABIODUN ONIFADE",
      "userId": "11738090368076417366"
     },
     "user_tz": -60
    },
    "id": "uG4kbxATlg_m",
    "outputId": "371d46b7-1b23-4541-82f4-6cb22db272e4"
   },
   "outputs": [],
   "source": [
    "incidence = malaria[['countryname', 'year', 'iom(/1,000 pop)']]\n",
    "\n",
    "# Group by country and year, calculate the mean incidence of malaria\n",
    "mean_malaria_incidence = incidence.groupby(['countryname', 'year']).mean().reset_index()\n",
    "\n",
    "# Pivot the table for better visualization\n",
    "pivot_table = mean_malaria_incidence.pivot(index='year',columns= 'countryname', values='iom(/1,000 pop)')\n",
    "\n",
    "# Plotting\n",
    "plt.figure(figsize=(8, 4))\n",
    "sns.heatmap(pivot_table, cmap='YlGnBu')\n",
    "plt.title('Incidence of Malaria (per 1,000 population at risk) by Country and Year')\n",
    "plt.xlabel('Country Name')\n",
    "plt.ylabel('Year')\n",
    "plt.show()"
   ]
  },
  {
   "cell_type": "markdown",
   "metadata": {
    "id": "EaEaCWiQItwg"
   },
   "source": [
    "The above heatmap does not show all the countries as there are many with very less incidence of malaria cases. Each cell in the heatmap corresponds to a specific country and year, with the color intensity indicating the malaria incidence rate.\n",
    "\n",
    "Based on the heatmap, we can derive the following:\n",
    "\n",
    "1. **Geographical patterns:** There are clear geographical patterns in malaria incidence. Countries in sub-Saharan Africa generally have higher incidence rates compared to countries in other regions.\n",
    "2. **Temporal trends:** There are also noticeable temporal trends. Malaria incidence rates fluctuate over time within each country, with some years experiencing higher or lower incidence compared to others.\n",
    "3. **Outliers:** A few countries stand out as having consistently high malaria incidence rates across multiple years.\n",
    "\n",
    "**Interpretation:**\n",
    "- The heatmap highlights the substantial burden of malaria in sub-Saharan Africa, particularly in countries such as Nigeria, Democratic Republic of the Congo, and Uganda.\n",
    "- The temporal trends suggest that malaria incidence is not static and can vary significantly from year to year, likely influenced by factors such as climate, vector control measures, and access to healthcare.\n",
    "- The outliers with consistently high incidence rates might represent countries with ongoing challenges in malaria control and prevention."
   ]
  },
  {
   "cell_type": "code",
   "execution_count": null,
   "metadata": {
    "colab": {
     "base_uri": "https://localhost:8080/",
     "height": 1000
    },
    "executionInfo": {
     "elapsed": 1798,
     "status": "ok",
     "timestamp": 1715956273621,
     "user": {
      "displayName": "ABIODUN ONIFADE",
      "userId": "11738090368076417366"
     },
     "user_tz": -60
    },
    "id": "-VGSDw95klth",
    "outputId": "091e8d16-420e-4048-a954-80e60a0f517e"
   },
   "outputs": [],
   "source": [
    "# Summary statistics of incidence of malaria\n",
    "iom_stats = malaria.groupby('countryname')['iom(/1,000 pop)'].describe()\n",
    "\n",
    "# Plotting the distribution of IOM by country\n",
    "plt.figure(figsize=(12,12))\n",
    "sns.boxplot(x='iom(/1,000 pop)', y='countryname', data=malaria, orient='h')\n",
    "plt.xlabel('Incidence of Malaria (per 1,000 population)')\n",
    "plt.ylabel('Country Name')\n",
    "plt.title('Distribution of Incidence of Malaria by Country')\n",
    "plt.show()"
   ]
  },
  {
   "cell_type": "markdown",
   "metadata": {
    "id": "T2RVrSXtjoPz"
   },
   "source": [
    "The boxplot showing the distribution of malaria incidence by country provides a visual representation of the spread and central tendency of malaria cases across different countries. Each boxplot represents a specific country, with the following elements:\n",
    "\n",
    "- Median: The horizontal line inside the box represents the median malaria incidence rate, which divides the data into two halves.\n",
    "- 25th and 75th percentiles: The edges of the box represent the 25th and 75th percentiles, indicating the range within which 50% of the data falls.\n",
    "- Whiskers: The lines extending from the box represent the minimum and maximum values, excluding outliers.\n",
    "- Outliers: Data points beyond the whiskers are considered outliers and are plotted as individual points.\n",
    "\n",
    "Based on the boxplot, we can observe the following:\n",
    "\n",
    "- Variability: There is considerable variability in malaria incidence across countries. Some countries have a relatively narrow interquartile range (IQR), indicating a more consistent distribution of cases, while others have a wider IQR, suggesting a more dispersed distribution.\n",
    "- Outliers: There are a few countries with outlier data points, representing exceptionally high malaria incidence rates compared to the majority of countries.\n",
    "- Median comparison: The median malaria incidence rate can be compared across countries to identify those with higher or lower burden of disease.\n",
    "\n",
    "Interpretation:\n",
    "\n",
    "Countries with higher median incidence rates and wider IQRs might require more intensive malaria control measures and interventions.\n",
    "The outlier countries with extremely high incidence rates warrant further investigation to understand the underlying factors contributing to their elevated malaria burden."
   ]
  },
  {
   "cell_type": "code",
   "execution_count": null,
   "metadata": {
    "colab": {
     "base_uri": "https://localhost:8080/",
     "height": 827
    },
    "executionInfo": {
     "elapsed": 3176,
     "status": "ok",
     "timestamp": 1715956324661,
     "user": {
      "displayName": "ABIODUN ONIFADE",
      "userId": "11738090368076417366"
     },
     "user_tz": -60
    },
    "id": "z8k-4LyTvPqw",
    "outputId": "e914d4bc-50c7-4a0f-8b6b-f64357fd422a"
   },
   "outputs": [],
   "source": [
    "# Plotting the relationship between country name, year, and IOM using bar plots\n",
    "plt.figure(figsize=(12, 8))\n",
    "sns.barplot(x='countryname', y='iom(/1,000 pop)', hue='year', data=malaria, errorbar=None,dodge=True)\n",
    "plt.xlabel('Country Name')\n",
    "plt.ylabel('Average Incidence of Malaria (per 1,000 population)')\n",
    "plt.title('Relationship between Country Name, Year, and Incidence of Malaria')\n",
    "plt.legend(title='Year', bbox_to_anchor=(1.05, 1), loc='upper left')\n",
    "plt.xticks(rotation=90)  # Rotate x-axis labels for better readability\n",
    "plt.tight_layout()\n",
    "plt.show()"
   ]
  },
  {
   "cell_type": "markdown",
   "metadata": {
    "id": "R_1xscxVkgzi"
   },
   "source": [
    "The barplot showing the relationship between country name, year, and incidence of malaria provides a visual representation of how malaria incidence varies across different countries and time periods. Each bar represents a specific country in a given year, with the height of the bar indicating the malaria incidence rate.\n",
    "\n",
    "Based on the barplot, we can observe the following:\n",
    "\n",
    "Country comparison: The plot allows for easy comparison of malaria incidence between countries within the same year. For example, we can see that Burkina Faso consistently has higher incidence rates compared to Chad across all years.\n",
    "Outliers: Similar to the previous visualizations, there are a few countries with exceptionally high malaria incidence rates that stand out as outliers.\n",
    "Interpretation:\n",
    "The barplot highlights the substantial burden of malaria in certain countries, particularly those with consistently high incidence rates across multiple years.\n",
    "The outliers with extremely high incidence rates warrant further investigation to understand the underlying causes and potential need for targeted interventions."
   ]
  },
  {
   "cell_type": "code",
   "execution_count": null,
   "metadata": {
    "colab": {
     "base_uri": "https://localhost:8080/"
    },
    "executionInfo": {
     "elapsed": 377,
     "status": "ok",
     "timestamp": 1715956391162,
     "user": {
      "displayName": "ABIODUN ONIFADE",
      "userId": "11738090368076417366"
     },
     "user_tz": -60
    },
    "id": "gBSH0lIINTbz",
    "outputId": "c8627824-cdb3-49c8-cde8-496b84d286dd"
   },
   "outputs": [],
   "source": [
    "# Create a dictionary to store the top 3 countries for each year\n",
    "top_3_dict = {}\n",
    "\n",
    "# Group by 'year' and then apply the sorting and extraction of top 3 countries within each group\n",
    "for year, group in malaria.groupby('year'):\n",
    "    top_3_countries = group.nlargest(3, 'iom(/1,000 pop)')[['countryname', 'iom(/1,000 pop)']]\n",
    "    top_3_dict[year] = top_3_countries['countryname'].values\n",
    "\n",
    "# Convert the dictionary to a DataFrame\n",
    "top_3_df = pd.DataFrame(top_3_dict)\n",
    "\n",
    "# Rename the index for clarity\n",
    "top_3_df.index = ['1st', '2nd', '3rd']\n",
    "\n",
    "# Transpose the DataFrame so that years are columns\n",
    "top_3_df = top_3_df.transpose()\n",
    "\n",
    "# Display the results\n",
    "print(\"Top 3 Countries with the Most Malaria Incidence Cases for Each Year:\")\n",
    "top_3_df"
   ]
  },
  {
   "cell_type": "markdown",
   "metadata": {
    "id": "Wz0PeVLvNcuM"
   },
   "source": [
    "This shows the Top 3 countries with most number of Malaria Incidence cases.\n",
    "This statistics will give organisations or government better information on countries to investigate, to provide measures to mitgate the occurence malaria in that area."
   ]
  },
  {
   "cell_type": "markdown",
   "metadata": {
    "id": "8qCpu52m0z5z"
   },
   "source": [
    "2. Relationship between incidence of malaria and basic water service"
   ]
  },
  {
   "cell_type": "code",
   "execution_count": null,
   "metadata": {
    "colab": {
     "base_uri": "https://localhost:8080/",
     "height": 407
    },
    "executionInfo": {
     "elapsed": 581,
     "status": "ok",
     "timestamp": 1715956429440,
     "user": {
      "displayName": "ABIODUN ONIFADE",
      "userId": "11738090368076417366"
     },
     "user_tz": -60
    },
    "id": "kUTopx6k2Jy2",
    "outputId": "9c36210b-7b8b-4395-8c11-0d1a648fb9c7"
   },
   "outputs": [],
   "source": [
    "# Filter relevant columns\n",
    "relevant_columns = ['year', 'iom(/1,000 pop)', 'basicdrinkingwaterservices(%pop)']\n",
    "filtered_df = malaria[relevant_columns].dropna()  # Drop rows with missing values\n",
    "\n",
    "# Group by year and calculate the mean values\n",
    "mean_values = filtered_df.groupby('year').mean().reset_index()\n",
    "\n",
    "# Plotting the relationship between basic drinking water services and malaria incidence over time\n",
    "plt.figure(figsize=(6, 4))\n",
    "\n",
    "# Line plot for basic drinking water services\n",
    "sns.lineplot(x='year', y='basicdrinkingwaterservices(%pop)', data=mean_values, label='Basic Drinking Water Services')\n",
    "\n",
    "# Line plot for malaria incidence\n",
    "sns.lineplot(x='year', y='iom(/1,000 pop)', data=mean_values, color='red', label='Incidence of Malaria')\n",
    "\n",
    "plt.xlabel('Year')\n",
    "plt.ylabel('Percentage / Incidence')\n",
    "plt.title('Relationship between Basic Drinking Water Services and Incidence of Malaria Over Time')\n",
    "plt.legend()\n",
    "plt.tight_layout()\n",
    "plt.show()\n"
   ]
  },
  {
   "cell_type": "markdown",
   "metadata": {
    "id": "foiZ5OG-2dVC"
   },
   "source": [
    "**Inference -** This shows that there is a decrease in incidence of malaria with the increase in basic drinking water services.Some countries show a more rapid decline, while others experience a more gradual decrease or even fluctuations."
   ]
  },
  {
   "cell_type": "code",
   "execution_count": null,
   "metadata": {
    "colab": {
     "base_uri": "https://localhost:8080/",
     "height": 407
    },
    "executionInfo": {
     "elapsed": 1884,
     "status": "ok",
     "timestamp": 1715956469985,
     "user": {
      "displayName": "ABIODUN ONIFADE",
      "userId": "11738090368076417366"
     },
     "user_tz": -60
    },
    "id": "VIhWjhCrxIrp",
    "outputId": "659600f5-31a9-48ed-b3d8-9a6b3b4886c1"
   },
   "outputs": [],
   "source": [
    "# Filter relevant columns for analysis\n",
    "water_data = malaria[['countryname', 'iom(/1,000 pop)', 'basicdrinkingwaterservices(%pop)', 'basicdrinkingwater_rural(%ruralpop)', 'basicdrinkingwater_urban(%urbanpop)']]\n",
    "\n",
    "# Calculate the average incidence of malaria for each country\n",
    "avg_malaria_incidence = water_data.groupby('countryname')['iom(/1,000 pop)'].mean().reset_index()\n",
    "\n",
    "# Plotting the relationship between basic drinking water services and malaria incidence\n",
    "plt.figure(figsize=(8, 4))\n",
    "\n",
    "# Scatter plot for rural population\n",
    "sns.scatterplot(x='basicdrinkingwater_rural(%ruralpop)', y='iom(/1,000 pop)', data=water_data, label='Rural Population', alpha=0.7)\n",
    "\n",
    "# Scatter plot for urban population\n",
    "sns.scatterplot(x='basicdrinkingwater_urban(%urbanpop)', y='iom(/1,000 pop)', data=water_data, label='Urban Population', alpha=0.7)\n",
    "\n",
    "plt.xlabel('Percentage of Population with Basic Drinking Water Services')\n",
    "plt.ylabel('Incidence of Malaria (per 1,000 population)')\n",
    "plt.title('Impact of Basic Drinking Water Services on Malaria Incidence')\n",
    "plt.legend()\n",
    "plt.grid(True)\n",
    "plt.tight_layout()\n",
    "plt.show()\n"
   ]
  },
  {
   "cell_type": "markdown",
   "metadata": {
    "id": "d_M5Ow1j0Npk"
   },
   "source": [
    "The above scatter plot shows the relationsip betwen Incidence of Malaria and Percentage of population with basic drinking water. We can see that rural population have less basic drinking water services, whereas the services on the urban population are much greater than that of rural population but the incidence cases of Malaria are almost the same. This shows even both population suffer the same problem of malaria, basic drinking water services is not the same. Water service is essential for reducing the incidence of malaria."
   ]
  },
  {
   "cell_type": "markdown",
   "metadata": {
    "id": "n3uZkVkG3HmO"
   },
   "source": [
    "3. Relation between incidence of malaria and basic sanitation services"
   ]
  },
  {
   "cell_type": "code",
   "execution_count": null,
   "metadata": {
    "colab": {
     "base_uri": "https://localhost:8080/",
     "height": 407
    },
    "executionInfo": {
     "elapsed": 5358,
     "status": "ok",
     "timestamp": 1715956522406,
     "user": {
      "displayName": "ABIODUN ONIFADE",
      "userId": "11738090368076417366"
     },
     "user_tz": -60
    },
    "id": "B5-ked8_xIIT",
    "outputId": "9b9721e1-236e-4e66-f26d-64303f888616"
   },
   "outputs": [],
   "source": [
    "# Filter relevant columns\n",
    "relevant_columns = ['year', 'iom(/1,000 pop)', 'bascisanitationservices(%pop)']\n",
    "filtered_df = malaria[relevant_columns].dropna()  # Drop rows with missing values\n",
    "\n",
    "# Group by year and calculate the mean values\n",
    "mean_values = filtered_df.groupby('year').mean().reset_index()\n",
    "\n",
    "# Plotting the relationship between basic sanitation services and malaria incidence over time\n",
    "plt.figure(figsize=(6, 4))\n",
    "\n",
    "# Line plot for basic sanitation services\n",
    "sns.lineplot(x='year', y='bascisanitationservices(%pop)', data=mean_values, label='Basic Sanitation Services')\n",
    "\n",
    "# Line plot for malaria incidence\n",
    "sns.lineplot(x='year', y='iom(/1,000 pop)', data=mean_values, color='red', label='Incidence of Malaria')\n",
    "\n",
    "plt.xlabel('Year')\n",
    "plt.ylabel('Percentage / Incidence')\n",
    "plt.title('Relationship between Basic Sanitation Services and Incidence of Malaria Over Time')\n",
    "plt.legend()\n",
    "plt.tight_layout()\n",
    "plt.show()\n"
   ]
  },
  {
   "cell_type": "markdown",
   "metadata": {
    "id": "w2zwquSz4AI0"
   },
   "source": [
    "**Inference** - This shows that there is no relationship between incidence of malaria and Basic sanitation service."
   ]
  },
  {
   "cell_type": "code",
   "execution_count": null,
   "metadata": {
    "colab": {
     "base_uri": "https://localhost:8080/",
     "height": 407
    },
    "executionInfo": {
     "elapsed": 1950,
     "status": "ok",
     "timestamp": 1715956543847,
     "user": {
      "displayName": "ABIODUN ONIFADE",
      "userId": "11738090368076417366"
     },
     "user_tz": -60
    },
    "id": "P2wYJcjh3mzN",
    "outputId": "99359a3c-f767-495c-be6a-1fb64a1c5012"
   },
   "outputs": [],
   "source": [
    "# Filter relevant columns for analysis\n",
    "sanitation_data = malaria[['countryname', 'iom(/1,000 pop)', 'bascisanitationservices(%pop)', 'bascisanitationservices_rural(%ruralpop)', 'bascisanitationservices_urban(%urbanpop)']]\n",
    "\n",
    "# Calculate the average incidence of malaria for each country\n",
    "avg_malaria_incidence = sanitation_data.groupby('countryname')['iom(/1,000 pop)'].mean().reset_index()\n",
    "\n",
    "# Plotting the relationship between basic sanitation services and malaria incidence\n",
    "plt.figure(figsize=(8, 4))\n",
    "\n",
    "# Scatter plot for rural population\n",
    "sns.scatterplot(x='bascisanitationservices_rural(%ruralpop)', y='iom(/1,000 pop)', data=sanitation_data, label='Rural Population', alpha=0.7)\n",
    "\n",
    "# Scatter plot for urban population\n",
    "sns.scatterplot(x='bascisanitationservices_urban(%urbanpop)', y='iom(/1,000 pop)', data=sanitation_data, label='Urban Population', alpha=0.7)\n",
    "\n",
    "plt.xlabel('Percentage of Population with Basic Sanitation Services')\n",
    "plt.ylabel('Incidence of Malaria (per 1,000 population)')\n",
    "plt.title('Impact of Basic Sanitation Services on Malaria Incidence')\n",
    "plt.legend()\n",
    "plt.grid(True)\n",
    "plt.tight_layout()\n",
    "plt.show()\n"
   ]
  },
  {
   "cell_type": "markdown",
   "metadata": {
    "id": "Z99fIRH74L3X"
   },
   "source": [
    "The above scatter plot shows that rural population have less percentage of population with basic sanitation sevices compared to urban. But as a whole we can see that some percentage of the urban population do not have  basic sanitage services."
   ]
  },
  {
   "cell_type": "markdown",
   "metadata": {
    "id": "-kCdgiit5O7F"
   },
   "source": [
    "4. Relation between urban and rural population growth over the years"
   ]
  },
  {
   "cell_type": "code",
   "execution_count": null,
   "metadata": {
    "colab": {
     "base_uri": "https://localhost:8080/",
     "height": 407
    },
    "executionInfo": {
     "elapsed": 1741,
     "status": "ok",
     "timestamp": 1715956609005,
     "user": {
      "displayName": "ABIODUN ONIFADE",
      "userId": "11738090368076417366"
     },
     "user_tz": -60
    },
    "id": "SGeTmodJ5L4Q",
    "outputId": "05e44d28-c754-4324-c0c3-b75b74588dad"
   },
   "outputs": [],
   "source": [
    "# Filter relevant columns\n",
    "relevant_columns = ['year', 'ruralpopgrowth(annual%)', 'urbanpopgrowth(annual%)']\n",
    "population_growth_df = malaria[relevant_columns].dropna()  # Drop rows with missing values\n",
    "\n",
    "# Plotting the relationship between urban and rural population growth over the years\n",
    "plt.figure(figsize=(8, 4))\n",
    "\n",
    "# Line plot for rural population growth\n",
    "sns.lineplot(x='year', y='ruralpopgrowth(annual%)', data=population_growth_df, label='Rural Population Growth')\n",
    "\n",
    "# Create a secondary y-axis for urban population growth\n",
    "plt.twinx()\n",
    "sns.lineplot(x='year', y='urbanpopgrowth(annual%)', data=population_growth_df, color='orange', label='Urban Population Growth')\n",
    "\n",
    "plt.xlabel('Year')\n",
    "plt.ylabel('Population Growth Rate (%)')\n",
    "plt.title('Relationship between Urban and Rural Population Growth over the Years')\n",
    "plt.legend(loc='upper left')\n",
    "plt.tight_layout()\n",
    "plt.show()\n"
   ]
  },
  {
   "cell_type": "markdown",
   "metadata": {
    "id": "d4dWPxSQpLAY"
   },
   "source": [
    "The plot highlights the ongoing global trend towards urbanization. This has important implications on various aspects of the society, such as housing, transportation, infrastructure, and service provision."
   ]
  },
  {
   "cell_type": "code",
   "execution_count": null,
   "metadata": {
    "colab": {
     "base_uri": "https://localhost:8080/",
     "height": 307
    },
    "executionInfo": {
     "elapsed": 1195,
     "status": "ok",
     "timestamp": 1715956648598,
     "user": {
      "displayName": "ABIODUN ONIFADE",
      "userId": "11738090368076417366"
     },
     "user_tz": -60
    },
    "id": "jnCFi_fa7TUT",
    "outputId": "bc3a2c70-e051-4ec6-bc56-c2c5b6260239"
   },
   "outputs": [],
   "source": [
    "# Filter relevant columns for further analysis\n",
    "relevant_columns = ['year', 'iom(/1,000 pop)', 'urbanpopgrowth(annual%)','ruralpopgrowth(annual%)']\n",
    "malaria_urban_data = malaria[relevant_columns].dropna()  # Drop rows with missing values\n",
    "\n",
    "# Group by year and calculate the mean values\n",
    "mean_values = malaria_urban_data.groupby('year').mean().reset_index()\n",
    "\n",
    "# Plotting the relationship between incidence of malaria and urban population growth over time\n",
    "plt.figure(figsize=(7, 4))\n",
    "\n",
    "# Line plot for urban population growth\n",
    "sns.lineplot(x='year', y='urbanpopgrowth(annual%)', data=mean_values, label='Urban Population Growth')\n",
    "\n",
    "# Line plot for rural population growth\n",
    "sns.lineplot(x='year', y='ruralpopgrowth(annual%)', data=mean_values, label='Rural Population Growth')\n",
    "\n",
    "# Line plot for incidence of malaria\n",
    "sns.lineplot(x='year', y='iom(/1,000 pop)', data=mean_values, color='red', label='Incidence of Malaria')\n",
    "\n",
    "plt.xlabel('Year')\n",
    "plt.ylabel('Rate')\n",
    "plt.title('Relationship between Incidence of Malaria, Urban and\\n Rural Population Growth Over Time')\n",
    "plt.legend()\n",
    "plt.tight_layout()\n",
    "plt.show()\n"
   ]
  },
  {
   "cell_type": "markdown",
   "metadata": {
    "id": "1rQTEqsG8ELY"
   },
   "source": [
    "There is no relevant relation between growth (in both rural and urg=ban areas) and incidence of Malaria. Some countries with high urbanization rates have high malaria incidence, while others with low urbanization rates also have high malaria incidence."
   ]
  },
  {
   "cell_type": "markdown",
   "metadata": {
    "id": "fEjDAc1zAv-x"
   },
   "source": [
    "5. Relation between Malaria Cases reported over the countries in Africa and getting to know more about which countries are in a much needed investigation soon.\n"
   ]
  },
  {
   "cell_type": "code",
   "execution_count": null,
   "metadata": {
    "colab": {
     "base_uri": "https://localhost:8080/",
     "height": 407
    },
    "executionInfo": {
     "elapsed": 523,
     "status": "ok",
     "timestamp": 1715956716950,
     "user": {
      "displayName": "ABIODUN ONIFADE",
      "userId": "11738090368076417366"
     },
     "user_tz": -60
    },
    "id": "S1c4FUk-8Mdn",
    "outputId": "72ccca7e-c51d-43fa-cb80-05c48a6489fd"
   },
   "outputs": [],
   "source": [
    "# Filter relevant columns for analysis\n",
    "relevant_columns = ['year', 'iom(/1,000 pop)', 'malariacasesreported']\n",
    "malaria_cases_data = malaria[relevant_columns].dropna()  # Drop rows with missing values\n",
    "\n",
    "# Group by year and calculate the mean values\n",
    "mean_values = malaria_cases_data.groupby('year').mean().reset_index()\n",
    "\n",
    "# Plotting the relationship between incidence of malaria and reported cases over time\n",
    "plt.figure(figsize=(6, 4))\n",
    "\n",
    "# Line plot for reported cases of malaria\n",
    "sns.lineplot(x='year', y='malariacasesreported', data=mean_values, label='Reported Cases of Malaria')\n",
    "\n",
    "# Line plot for incidence of malaria\n",
    "sns.lineplot(x='year', y='iom(/1,000 pop)', data=mean_values, color='red', label='Incidence of Malaria')\n",
    "\n",
    "plt.xlabel('Year')\n",
    "plt.ylabel('Value')\n",
    "plt.title('Relationship between Incidence of Malaria and Reported Cases Over Time')\n",
    "plt.legend()\n",
    "plt.tight_layout()\n",
    "plt.show()\n"
   ]
  },
  {
   "cell_type": "markdown",
   "metadata": {
    "id": "lqhmOIFjBBIh"
   },
   "source": [
    "The above line plot shows that over time, the number of malaria cases reported increased exponentially."
   ]
  },
  {
   "cell_type": "code",
   "execution_count": null,
   "metadata": {
    "colab": {
     "base_uri": "https://localhost:8080/",
     "height": 650
    },
    "executionInfo": {
     "elapsed": 971,
     "status": "ok",
     "timestamp": 1715956750328,
     "user": {
      "displayName": "ABIODUN ONIFADE",
      "userId": "11738090368076417366"
     },
     "user_tz": -60
    },
    "id": "8l4oq1G3_bUv",
    "outputId": "8cf07f30-bd73-4669-ceaa-048ea05a8801"
   },
   "outputs": [],
   "source": [
    "# Group by country and calculate the total malaria cases reported for each country\n",
    "total_malaria_cases = malaria.groupby('countryname')['malariacasesreported'].sum().reset_index()\n",
    "\n",
    "# Plotting\n",
    "plt.figure(figsize=(12, 8))\n",
    "sns.barplot(x='countryname', y='malariacasesreported', data=total_malaria_cases)\n",
    "plt.xlabel('Country Name')\n",
    "plt.ylabel('Total Malaria Cases Reported')\n",
    "plt.title('Total Malaria Cases Reported by Country')\n",
    "plt.xticks(rotation=45, ha='right')  # Rotate x-axis labels for better readability\n",
    "plt.tight_layout()\n",
    "plt.show()\n"
   ]
  },
  {
   "cell_type": "markdown",
   "metadata": {
    "id": "CB3idj5xBWD_"
   },
   "source": [
    "This shows that the reported malaria cases over different countries. This helps get the idea of countries that are taking appropriate measures to reduce malaria cases."
   ]
  },
  {
   "cell_type": "code",
   "execution_count": null,
   "metadata": {
    "colab": {
     "base_uri": "https://localhost:8080/",
     "height": 648
    },
    "executionInfo": {
     "elapsed": 4214,
     "status": "ok",
     "timestamp": 1715956959878,
     "user": {
      "displayName": "ABIODUN ONIFADE",
      "userId": "11738090368076417366"
     },
     "user_tz": -60
    },
    "id": "f_NkDl0Q-C7I",
    "outputId": "2baa7aa0-c854-4513-cc92-b111105ffb29"
   },
   "outputs": [],
   "source": [
    "# Filter relevant columns for analysis\n",
    "relevant_columns = ['countryname', 'year', 'iom(/1,000 pop)', 'malariacasesreported']\n",
    "malaria_country_data = malaria[relevant_columns].dropna()  # Drop rows with missing values\n",
    "\n",
    "# Group by country and year and calculate the mean values\n",
    "mean_values = malaria_country_data.groupby(['countryname', 'year']).mean().reset_index()\n",
    "\n",
    "# Plotting the relationship between incidence of malaria and reported cases over time for different countries\n",
    "plt.figure(figsize=(12, 8))\n",
    "\n",
    "# Bar plot for reported cases of malaria for each year\n",
    "sns.barplot(x='countryname', y='malariacasesreported', hue='year', data=mean_values)\n",
    "\n",
    "plt.xlabel('Country Name')\n",
    "plt.ylabel('Reported Cases of Malaria')\n",
    "plt.title('Reported Cases of Malaria Over Time for Different Countries')\n",
    "plt.legend(title='Year', bbox_to_anchor=(1.05, 1), loc='upper left')\n",
    "plt.xticks(rotation=90, ha='right')  # Rotate x-axis labels for better readability\n",
    "plt.tight_layout()\n",
    "plt.show()\n"
   ]
  },
  {
   "cell_type": "markdown",
   "metadata": {
    "id": "wag4n0UtBrl1"
   },
   "source": [
    "Shows which countries had most reported cases increased over time. 'Congo. Dem. Rep' has the greatest number of Malria cases reported."
   ]
  },
  {
   "cell_type": "markdown",
   "metadata": {
    "id": "jJaEjwoEPEfq"
   },
   "source": [
    "6. Using geographical Location to get some insights."
   ]
  },
  {
   "cell_type": "code",
   "execution_count": null,
   "metadata": {
    "colab": {
     "base_uri": "https://localhost:8080/",
     "height": 542
    },
    "executionInfo": {
     "elapsed": 7738,
     "status": "ok",
     "timestamp": 1715956973410,
     "user": {
      "displayName": "ABIODUN ONIFADE",
      "userId": "11738090368076417366"
     },
     "user_tz": -60
    },
    "id": "AlYRoGxGpA1A",
    "outputId": "4d07ad3b-7c0d-4ee5-c9de-e88156be1af6"
   },
   "outputs": [],
   "source": [
    "# Create a scatter mapbox plot\n",
    "fig = px.scatter_mapbox(\n",
    "    data_frame=malaria,\n",
    "    lat='latitude',\n",
    "    lon='longitude',\n",
    "    color='iom(/1,000 pop)',\n",
    "    size='iom(/1,000 pop)',  # Optional: You can adjust the marker size based on malaria incidence\n",
    "    color_continuous_scale=px.colors.sequential.Reds,  # You can choose any color scale\n",
    "    mapbox_style='open-street-map',\n",
    "    hover_name='countryname',\n",
    "    title='Malaria Incidence by Country'\n",
    ")\n",
    "\n",
    "# Update layout for better visualization\n",
    "fig.update_layout(\n",
    "    mapbox=dict(\n",
    "        center=go.layout.mapbox.Center(lat=0, lon=0),\n",
    "        zoom=2\n",
    "    ),\n",
    "    margin={\"r\":0,\"t\":0,\"l\":0,\"b\":0}\n",
    ")\n",
    "\n",
    "# Display the map\n",
    "fig.show()\n"
   ]
  },
  {
   "cell_type": "markdown",
   "metadata": {
    "id": "MX1ynlJkLk56"
   },
   "source": [
    "Relationship between longitude,latitude and malaria incidence"
   ]
  },
  {
   "cell_type": "code",
   "execution_count": null,
   "metadata": {
    "colab": {
     "base_uri": "https://localhost:8080/",
     "height": 632
    },
    "executionInfo": {
     "elapsed": 649,
     "status": "ok",
     "timestamp": 1715963941581,
     "user": {
      "displayName": "ABIODUN ONIFADE",
      "userId": "11738090368076417366"
     },
     "user_tz": -60
    },
    "id": "QfvWYmaHJZj4",
    "outputId": "bfc49195-074f-4b85-b22c-caa828e73b48"
   },
   "outputs": [],
   "source": [
    "# Relationship between longitude,latitude and malaria incidence\n",
    "import pandas as pd\n",
    "import matplotlib.pyplot as plt\n",
    "import seaborn as sns\n",
    "\n",
    "# Select relevant columns\n",
    "malaria_selected = malaria[[\"latitude\", \"longitude\", \"iom(/1,000 pop)\"]]\n",
    "\n",
    "# Calculate the correlation matrix\n",
    "correlation_matrix = malaria_selected.corr()\n",
    "\n",
    "# Display the correlation matrix\n",
    "print(\"Correlation matrix:\")\n",
    "print(correlation_matrix)\n",
    "\n",
    "# Create a heatmap of the correlation matrix\n",
    "plt.figure(figsize=(8, 6))\n",
    "sns.heatmap(correlation_matrix, annot=True, cmap=\"coolwarm\", fmt=\".2f\")\n",
    "plt.title(\"Correlation between Latitude, Longitude and Malaria Incidence\")\n",
    "plt.show()"
   ]
  },
  {
   "cell_type": "markdown",
   "metadata": {
    "id": "VU8LieYPPipL"
   },
   "source": [
    "- Latitude and Longitude: There is a very weak negative correlation between latitude and longitude, indicating that as latitude increases, longitude tends to decrease slightly.\n",
    "- Latitude and Incidence of Malaria: There is a very weak positive correlation between latitude and malaria incidence, suggesting that as latitude increases, malaria incidence tends to increase slightly.\n",
    "- Longitude and Incidence of Malaria: There is a very weak negative correlation between longitude and malaria incidence, implying that as longitude increases, malaria incidence tends to decrease slightly.\n",
    "\n",
    "Overall, the correlation matrix suggests that there are no strong linear relationships between latitude, longitude, and malaria incidence in the provided dataset."
   ]
  },
  {
   "cell_type": "code",
   "execution_count": null,
   "metadata": {
    "colab": {
     "base_uri": "https://localhost:8080/",
     "height": 564
    },
    "executionInfo": {
     "elapsed": 1669,
     "status": "ok",
     "timestamp": 1715964031277,
     "user": {
      "displayName": "ABIODUN ONIFADE",
      "userId": "11738090368076417366"
     },
     "user_tz": -60
    },
    "id": "LyWjaVzvMcEy",
    "outputId": "9a59752a-ce96-438e-90f9-f5246939ae95"
   },
   "outputs": [],
   "source": [
    "# Plot the relationship between latitude and malaria incidence\n",
    "plt.figure(figsize=(8, 6))\n",
    "plt.scatter(malaria_selected[\"latitude\"], malaria_selected[\"iom(/1,000 pop)\"])\n",
    "plt.title(\"Relationship between Latitude and Malaria Incidence\")\n",
    "plt.xlabel(\"Latitude\")\n",
    "plt.ylabel(\"Malaria Incidence (per 1,000 population)\")\n",
    "plt.show()"
   ]
  },
  {
   "cell_type": "markdown",
   "metadata": {
    "id": "oqJDg3n6Qyro"
   },
   "source": [
    "The scatter plot visualizes the relationship between latitude and malaria incidence per 1,000 population. Each data point on the plot represents a location with its corresponding latitude and malaria incidence.\n",
    "\n",
    "The following can be observed:\n",
    "\n",
    "1. Distribution of data points: The data points are spread out across the plot, indicating that there is no clear pattern or trend between latitude and malaria incidence.\n",
    "2. No Clusters: There are no distinct clusters or groups of data points, suggesting that there is no strong association between latitude and malaria incidence.\n",
    "3. Wide range of malaria incidence: Malaria incidence varies widely across different latitudes, ranging from low values (close to 0) to high values (above 200).\n",
    "\n",
    "**Inference**\n",
    "Overall, the scatter plot suggests that there is no significant correlation between latitude and malaria incidence in the provided dataset. This means that latitude alone cannot be used to predict malaria incidence accurately. There seem to be a few data points with high malaria incidence at lower latitudes (below 0). These could potentially be outliers or regions with specific conditions that contribute to higher malaria transmission.  The majority of data points are concentrated in the middle range of latitudes (between 0 and 20). This could indicate that malaria incidence is more prevalent in certain climate zones or regions."
   ]
  },
  {
   "cell_type": "code",
   "execution_count": null,
   "metadata": {
    "colab": {
     "base_uri": "https://localhost:8080/",
     "height": 564
    },
    "executionInfo": {
     "elapsed": 1329,
     "status": "ok",
     "timestamp": 1715964058000,
     "user": {
      "displayName": "ABIODUN ONIFADE",
      "userId": "11738090368076417366"
     },
     "user_tz": -60
    },
    "id": "R2nyM-Q0MoRp",
    "outputId": "89497fe1-edf6-47a6-f685-0942f8c45070"
   },
   "outputs": [],
   "source": [
    "# Plot the relationship between longitude and malaria incidence\n",
    "plt.figure(figsize=(8, 6))\n",
    "plt.scatter(malaria_selected[\"longitude\"], malaria_selected[\"iom(/1,000 pop)\"])\n",
    "plt.title(\"Relationship between Longitude and Malaria Incidence\")\n",
    "plt.xlabel(\"Longitude\")\n",
    "plt.ylabel(\"Malaria Incidence (per 1,000 population)\")\n",
    "plt.show()"
   ]
  },
  {
   "cell_type": "markdown",
   "metadata": {
    "id": "jWvNnUZrU5Cl"
   },
   "source": [
    "The scatter plot visualizes the relationship between longitude and malaria incidence per 1,000 population. Each data point on the plot represents a location with its corresponding longitude and malaria incidence.\n",
    "\n",
    "The following observations can be made:\n",
    "\n",
    "Distribution of data points: The data points are spread out across the plot, indicating that there is no clear pattern or trend between longitude and malaria incidence.\n",
    "No obvious clusters: There are no distinct clusters or groups of data points, suggesting that there is no strong association between longitude and malaria incidence.\n",
    "Wide range of malaria incidence: Malaria incidence varies widely across different longitudes, ranging from low values (close to 0) to high values (above 200).\n",
    "There seem to be a few data points with high malaria incidence at longitudes around 20 and 120. These could potentially be outliers or regions with specific conditions that contribute to higher malaria transmission.\n",
    "The majority of data points are concentrated between longitudes -20 and 40. This could indicate that malaria incidence is more prevalent in certain geographical regions.\n",
    " Overall the scatter plot suggests that there is no significant correlation between longitude and malaria incidence in the provided dataset. This means that longitude alone cannot be used to predict malaria incidence accurately. Other factors or variables might need to be considered for a more comprehensive analysis."
   ]
  },
  {
   "cell_type": "code",
   "execution_count": null,
   "metadata": {
    "colab": {
     "base_uri": "https://localhost:8080/",
     "height": 564
    },
    "executionInfo": {
     "elapsed": 1368,
     "status": "ok",
     "timestamp": 1715964081725,
     "user": {
      "displayName": "ABIODUN ONIFADE",
      "userId": "11738090368076417366"
     },
     "user_tz": -60
    },
    "id": "hRnqaIxi7ZSs",
    "outputId": "f2f44541-f4ef-4e37-b139-da31e828f094"
   },
   "outputs": [],
   "source": [
    "import seaborn as sns\n",
    "import matplotlib.pyplot as plt\n",
    "\n",
    "# Distribution of target variable\n",
    "plt.figure(figsize=(8, 6))\n",
    "sns.histplot(malaria['iom(/1,000 pop)'], kde=True)\n",
    "plt.title('Distribution of Malaria Incidence')\n",
    "plt.xlabel('Incidence (per 1,000 population)')\n",
    "plt.ylabel('Frequency')\n",
    "plt.show()\n"
   ]
  },
  {
   "cell_type": "markdown",
   "metadata": {
    "id": "d9TccSisWxyf"
   },
   "source": [
    "The distribution of malaria incidence refers to the spread or pattern of malaria cases across a population or geographical area. It provides insights into the prevalence and severity of malaria in different regions.\n",
    "\n",
    "Based on the histogram, we can observe the following:\n",
    "\n",
    "- Skewed distribution: The histogram is skewed to the right, indicating that there are more data points with lower malaria incidence values compared to higher values.The majority of data points are concentrated in the lower range of malaria incidence (between 0 and 50 per 1,000 population).\n",
    "- Outliers: There are a few data points with extremely high malaria incidence values (above 200 per 1,000 population). These could potentially be outliers or regions with specific conditions that contribute to higher malaria transmission.\n",
    "\n",
    "Overall, the distribution suggests that malaria incidence is relatively low in most regions represented in the dataset. However, there are certain areas or populations that experience significantly higher malaria incidence."
   ]
  },
  {
   "cell_type": "markdown",
   "metadata": {
    "id": "9SmthhpyI65d"
   },
   "source": [
    "**SUMMARY OF THE EDA**\n",
    "\n",
    "Data Descriptipn:\n",
    "\n",
    " The initial/raw dataset consists of 594 rows × 27 columns which was reduced to 594 rows x 18 columns during cleaning .\n",
    "\n",
    "Data Cleaning :\n",
    "\n",
    "Missing values were handled by droping columns with more than 70% of null values, and imputing the mean values.\n",
    "Also the culumn headers were renamed for better data handling.\n",
    "\n",
    "Exploratory Data Analysis:\n",
    "- The distribution of each column was visualized using histograms and boxplots.\n",
    "- The relationships between columns were visualized using scatter plots or correlation matrices.\n",
    "- The summary statistics of each column were calculated.\n",
    "\n",
    "**Key Findings:**\n",
    "\n",
    "- Based on the heatmap, there are clear geographical patterns in malaria incidence. Countries in sub-Saharan Africa generally have higher incidence rates compared to countries in other regions. The heatmap highlights the substantial burden of malaria in sub-Saharan Africa, particularly in countries such as Nigeria, Democratic Republic of the Congo, and Uganda.\n",
    "- Access to basic drinking water services might be one of several factors contributing to the reduction of malaria incidence over time.\n",
    "- The variability in the relationship between drinking water services and malaria highlights the need for country-specific analyses to understand the local context and identify the most effective strategies for malaria control.\n",
    "- Access to basic drinking water services alone cannot fully explain the variation in malaria incidence across countries.\n",
    "- Access to basic sanitation services might be one of several factors contributing to the reduction of malaria incidence over time.\n",
    "- The variability in the rate of urbanization suggests that different countries are at different stages of the urbanization process. This might be influenced by factors such as economic development, government policies, and cultural preferences.\n",
    "- The plot suggests that the relationship between malaria incidence and urbanization is complex and likely influenced by a combination of factors beyond simply the proportion of urban or rural population.\n",
    "- In many countries, there seems to be a general trend of increasing reported cases over time, while the malaria incidence rate remains relatively stable or even decreases.\n",
    "- The increasing trend in reported cases over time might reflect improvements in surveillance and reporting systems, leading to better detection and documentation of malaria cases.\n",
    "- The correlation matrix suggests that there are no strong linear relationships between latitude, longitude, and malaria incidence in the provided dataset.\n",
    "- There is a negative correlation between the use of insecticide-treated bed nets and malaria incidence, indicating that bed nets may be effective in reducing malaria transmission.\n",
    "- Rural population percentage shows a positive correlation with malaria incidence, suggesting that rural areas may be more susceptible to malaria.\n",
    "\n",
    "\n",
    "**Conclusion:**\n",
    "\n",
    "The EDA provided valuable insights into the structure and characteristics of the dataset. The findings from the EDA will be used to inform the next steps in the data analysis process, such as feature selection, model building, and interpretation."
   ]
  }
 ],
 "metadata": {
  "colab": {
   "provenance": [
    {
     "file_id": "1P_VC2GdbxdGxqFt4ChvAbcgJ_P7dVARN",
     "timestamp": 1715970985805
    }
   ]
  },
  "kernelspec": {
   "display_name": "Python 3 (ipykernel)",
   "language": "python",
   "name": "python3"
  },
  "language_info": {
   "codemirror_mode": {
    "name": "ipython",
    "version": 3
   },
   "file_extension": ".py",
   "mimetype": "text/x-python",
   "name": "python",
   "nbconvert_exporter": "python",
   "pygments_lexer": "ipython3",
   "version": "3.10.9"
  }
 },
 "nbformat": 4,
 "nbformat_minor": 4
}
